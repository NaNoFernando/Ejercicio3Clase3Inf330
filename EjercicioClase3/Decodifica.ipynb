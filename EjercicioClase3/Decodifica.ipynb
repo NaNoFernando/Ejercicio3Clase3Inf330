{
 "cells": [
  {
   "cell_type": "code",
   "execution_count": 333,
   "metadata": {},
   "outputs": [],
   "source": [
    "def abinario(n):\n",
    "\ts=\"\"\n",
    "\twhile n>=2:\n",
    "\t\tr=n%2\n",
    "\t\ts = str(r)+s\n",
    "\t\tn=n//2\n",
    "\ts=\"00000000\"+str(n)+s\n",
    "\tres=s[-8:]\n",
    "\treturn res"
   ]
  },
  {
   "cell_type": "code",
   "execution_count": 334,
   "metadata": {},
   "outputs": [],
   "source": [
    "def vcabezal(n):\n",
    "\tp=(n-1)*8\n",
    "\tfor i in range(8):\n",
    "\t\tprint(m[p+i],end=\" \")\n",
    "\tprint()"
   ]
  },
  {
   "cell_type": "code",
   "execution_count": 335,
   "metadata": {},
   "outputs": [],
   "source": [
    "def vdcabezal(n):\n",
    "\tp=(n-1)*8\n",
    "\td=0\n",
    "\tfor i in range(8,0,-1):\n",
    "\t\td=d+m[p+i-1]*(2**(8-i))\n",
    "\t\t#print(i,m[p+i-1])\n",
    "\treturn d"
   ]
  },
  {
   "cell_type": "code",
   "execution_count": 336,
   "metadata": {},
   "outputs": [],
   "source": [
    "def cabezal(p,v):\n",
    "\ttexto=abinario(v)\n",
    "\tk=(p-1)*8\n",
    "\tfor i in range(8):\n",
    "\t\tm[k+i]=int(texto[i])"
   ]
  },
  {
   "cell_type": "code",
   "execution_count": 337,
   "metadata": {},
   "outputs": [
    {
     "name": "stdout",
     "output_type": "stream",
     "text": [
      "110101110000101000011101110111000000001001000001010100100100100101000100110000001010100010100000000111011101011100001010000111011101110000000001010000100100000101010010010000101100000010101000101000000001110111010111000010100001110111011100000000110100000101000100010001010101001111000000101010001010000000011101\n"
     ]
    }
   ],
   "source": [
    "archivo=open(\"mensaje3.txt\")\n",
    "linea=archivo.readline()\n",
    "print(linea)\n",
    "#convertimos de str en la lista a otra lista int\n",
    "m = list(map(int, linea))"
   ]
  },
  {
   "cell_type": "code",
   "execution_count": 339,
   "metadata": {},
   "outputs": [
    {
     "name": "stdout",
     "output_type": "stream",
     "text": [
      "Cual es el ancho de banda del mensaje ? :12\n"
     ]
    }
   ],
   "source": [
    "ancho_de_banda=int(input(\"Cual es el ancho de banda del mensaje ? :\"))"
   ]
  },
  {
   "cell_type": "code",
   "execution_count": 340,
   "metadata": {},
   "outputs": [],
   "source": [
    "#dividimos entre 8 por que son 8 bits o 1 byte\n",
    "tamano=len(m)/8"
   ]
  },
  {
   "cell_type": "code",
   "execution_count": 341,
   "metadata": {},
   "outputs": [],
   "source": [
    "def direccionOrigen():\n",
    "    print(\"Direccion de Origen : {}.{}.{}.{} \".format(vdcabezal(1),vdcabezal(2),vdcabezal(3),vdcabezal(4)))"
   ]
  },
  {
   "cell_type": "code",
   "execution_count": 342,
   "metadata": {},
   "outputs": [],
   "source": [
    "def direccionDestino():\n",
    "    print(\"Direccion de Destino : {}.{}.{}.{} \".format(vdcabezal(36),vdcabezal(37),vdcabezal(38),vdcabezal(39)))"
   ]
  },
  {
   "cell_type": "code",
   "execution_count": 343,
   "metadata": {},
   "outputs": [],
   "source": [
    "def numeroPaquetes():\n",
    "    print(\"Numero de paquetes : {}\".format(len(numero_de_secuencia)))"
   ]
  },
  {
   "cell_type": "code",
   "execution_count": 344,
   "metadata": {},
   "outputs": [],
   "source": [
    "lista_mensaje=[]\n",
    "for i in range(int(tamano)):\n",
    "    lista_mensaje.append(vdcabezal(i+1))"
   ]
  },
  {
   "cell_type": "code",
   "execution_count": 345,
   "metadata": {},
   "outputs": [
    {
     "name": "stdout",
     "output_type": "stream",
     "text": [
      "[215, 10, 29, 220, 2, 65, 82, 73, 68, 192, 168, 160, 29, 215, 10, 29, 220, 1, 66, 65, 82, 66, 192, 168, 160, 29, 215, 10, 29, 220, 3, 65, 68, 69, 83, 192, 168, 160, 29]\n"
     ]
    }
   ],
   "source": [
    "print(lista_mensaje)"
   ]
  },
  {
   "cell_type": "code",
   "execution_count": 346,
   "metadata": {},
   "outputs": [
    {
     "name": "stdout",
     "output_type": "stream",
     "text": [
      "[2, 1, 3]\n"
     ]
    }
   ],
   "source": [
    "numero_de_secuencia=[]\n",
    "#obtengo los numeros de secuencia de los paquetes\n",
    "def numerosDeSecuencia():\n",
    "    s=5\n",
    "    for i in range (int(tamano//ancho_de_banda)):\n",
    "        numero_de_secuencia.append(vdcabezal(s))\n",
    "        s=s+ancho_de_banda+1\n",
    "numerosDeSecuencia()\n",
    "print(numero_de_secuencia)"
   ]
  },
  {
   "cell_type": "code",
   "execution_count": 347,
   "metadata": {},
   "outputs": [
    {
     "name": "stdout",
     "output_type": "stream",
     "text": [
      "[[1, 'BARB'], [2, 'ARID'], [3, 'ADES']]\n"
     ]
    }
   ],
   "source": [
    "palabras=[]\n",
    "palabrasJuntas=[]\n",
    "def palabrasAlamacenadas():\n",
    "    s=5\n",
    "    for i in range (int(tamano//ancho_de_banda)):\n",
    "        palabras=[]\n",
    "        for j in range(int(ancho_de_banda//len(numero_de_secuencia))):\n",
    "            s=s+1\n",
    "            #palabras.append([chr(vdcabezal(s)),numero_de_secuencia[i]])\n",
    "            palabras.append(chr(vdcabezal(s)))\n",
    "        s=s+9\n",
    "        palabrasJuntas.append([numero_de_secuencia[i],\"\".join(palabras)])\n",
    "        \n",
    "palabrasAlamacenadas()\n",
    "palabrasJuntas.sort()\n",
    "print(palabrasJuntas)"
   ]
  },
  {
   "cell_type": "code",
   "execution_count": 348,
   "metadata": {},
   "outputs": [
    {
     "data": {
      "text/plain": [
       "'BARBARIDADES'"
      ]
     },
     "execution_count": 348,
     "metadata": {},
     "output_type": "execute_result"
    }
   ],
   "source": [
    "def ordenarPalabras():\n",
    "    mensaje=\"\"\n",
    "    for i,j in palabrasJuntas:\n",
    "        mensaje=mensaje+j\n",
    "       \n",
    "    return mensaje\n",
    "ordenarPalabras()"
   ]
  },
  {
   "cell_type": "code",
   "execution_count": 349,
   "metadata": {},
   "outputs": [
    {
     "name": "stdout",
     "output_type": "stream",
     "text": [
      "Direccion de Origen : 215.10.29.220 \n",
      "Direccion de Destino : 192.168.160.29 \n",
      "Numero de paquetes : 3\n",
      "El ancho de banda es : 12\n",
      "El mensaje es : BARBARIDADES\n"
     ]
    }
   ],
   "source": [
    "direccionOrigen()\n",
    "direccionDestino()\n",
    "numeroPaquetes()\n",
    "print(\"El ancho de banda es : {}\".format(ancho_de_banda))\n",
    "print(\"El mensaje es : {}\".format(ordenarPalabras()))"
   ]
  },
  {
   "cell_type": "code",
   "execution_count": null,
   "metadata": {},
   "outputs": [],
   "source": []
  },
  {
   "cell_type": "code",
   "execution_count": null,
   "metadata": {},
   "outputs": [],
   "source": []
  },
  {
   "cell_type": "code",
   "execution_count": null,
   "metadata": {},
   "outputs": [],
   "source": []
  }
 ],
 "metadata": {
  "kernelspec": {
   "display_name": "Python 3",
   "language": "python",
   "name": "python3"
  },
  "language_info": {
   "codemirror_mode": {
    "name": "ipython",
    "version": 3
   },
   "file_extension": ".py",
   "mimetype": "text/x-python",
   "name": "python",
   "nbconvert_exporter": "python",
   "pygments_lexer": "ipython3",
   "version": "3.7.3"
  }
 },
 "nbformat": 4,
 "nbformat_minor": 2
}
