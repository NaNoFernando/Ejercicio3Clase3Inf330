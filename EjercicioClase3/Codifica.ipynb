{
 "cells": [
  {
   "cell_type": "code",
   "execution_count": 1,
   "metadata": {},
   "outputs": [],
   "source": [
    "def abinario(n):\n",
    "\ts=\"\"\n",
    "\twhile n>=2:\n",
    "\t\tr=n%2\n",
    "\t\ts = str(r)+s\n",
    "\t\tn=n//2\n",
    "\ts=\"00000000\"+str(n)+s\n",
    "\tres=s[-8:]\n",
    "\treturn res"
   ]
  },
  {
   "cell_type": "code",
   "execution_count": 2,
   "metadata": {},
   "outputs": [],
   "source": [
    "cipo=\"\"\n",
    "cipd=\"\""
   ]
  },
  {
   "cell_type": "code",
   "execution_count": 3,
   "metadata": {},
   "outputs": [
    {
     "name": "stdout",
     "output_type": "stream",
     "text": [
      "Ip Origen192.168.1.15\n"
     ]
    }
   ],
   "source": [
    "ipo=input(\"Ip Origen\")"
   ]
  },
  {
   "cell_type": "code",
   "execution_count": 4,
   "metadata": {},
   "outputs": [
    {
     "name": "stdout",
     "output_type": "stream",
     "text": [
      "Ip Destino200.25.14.3\n"
     ]
    }
   ],
   "source": [
    "ipd=input(\"Ip Destino\")"
   ]
  },
  {
   "cell_type": "code",
   "execution_count": 5,
   "metadata": {},
   "outputs": [
    {
     "name": "stdout",
     "output_type": "stream",
     "text": [
      "Mnesaje : hola mundo\n"
     ]
    }
   ],
   "source": [
    "msj=input(\"Mnesaje : \")"
   ]
  },
  {
   "cell_type": "code",
   "execution_count": 6,
   "metadata": {},
   "outputs": [
    {
     "name": "stdout",
     "output_type": "stream",
     "text": [
      "ancho de banda : 12\n"
     ]
    }
   ],
   "source": [
    "aBanda=int(input(\"ancho de banda : \"))"
   ]
  },
  {
   "cell_type": "code",
   "execution_count": 7,
   "metadata": {},
   "outputs": [
    {
     "data": {
      "text/plain": [
       "['192', '168', '1', '15']"
      ]
     },
     "execution_count": 7,
     "metadata": {},
     "output_type": "execute_result"
    }
   ],
   "source": [
    "lipo=ipo.split(\".\")\n",
    "lipo"
   ]
  },
  {
   "cell_type": "code",
   "execution_count": 8,
   "metadata": {},
   "outputs": [
    {
     "data": {
      "text/plain": [
       "['200', '25', '14', '3']"
      ]
     },
     "execution_count": 8,
     "metadata": {},
     "output_type": "execute_result"
    }
   ],
   "source": [
    "lipd=ipd.split(\".\")\n",
    "lipd"
   ]
  },
  {
   "cell_type": "code",
   "execution_count": 9,
   "metadata": {},
   "outputs": [
    {
     "name": "stdout",
     "output_type": "stream",
     "text": [
      "200 : 11001000\n",
      "25 : 00011001\n",
      "14 : 00001110\n",
      "3 : 00000011\n"
     ]
    }
   ],
   "source": [
    "for i in lipd: \n",
    "    b=abinario(int(i))\n",
    "    print(i,\":\",b)\n",
    "    cipd=cipd+b"
   ]
  },
  {
   "cell_type": "code",
   "execution_count": 10,
   "metadata": {},
   "outputs": [
    {
     "name": "stdout",
     "output_type": "stream",
     "text": [
      "192 : 11000000\n",
      "168 : 10101000\n",
      "1 : 00000001\n",
      "15 : 00001111\n"
     ]
    }
   ],
   "source": [
    "for i in lipo: \n",
    "    b=abinario(int(i))\n",
    "    print(i,\":\",b)\n",
    "    cipo=cipo+b"
   ]
  },
  {
   "cell_type": "code",
   "execution_count": 11,
   "metadata": {},
   "outputs": [
    {
     "name": "stdout",
     "output_type": "stream",
     "text": [
      "Cantidad de espacios faltante : 2\n",
      "*hola mundo__*\n"
     ]
    }
   ],
   "source": [
    "#nos aseguramos si el mensaje es multiplo del ancho de banda\n",
    "tMensaje=len(msj)\n",
    "pMensaje=aBanda-9\n",
    "if tMensaje % pMensaje==0:\n",
    "    print(\"Es multiplo\")\n",
    "else:\n",
    "    falta=pMensaje-tMensaje%pMensaje\n",
    "    print(\"Cantidad de espacios faltante :\",falta)\n",
    "    msj=msj+falta*\"_\"\n",
    "    print(\"*\"+msj+\"*\")"
   ]
  },
  {
   "cell_type": "code",
   "execution_count": 12,
   "metadata": {},
   "outputs": [
    {
     "name": "stdout",
     "output_type": "stream",
     "text": [
      "Numero de Paquetes : \n",
      " 4\n"
     ]
    }
   ],
   "source": [
    "nPaquetes=len(msj)//pMensaje#para divicion entera uso doble //\n",
    "print(\"Numero de Paquetes : \\n\",nPaquetes)"
   ]
  },
  {
   "cell_type": "code",
   "execution_count": 13,
   "metadata": {},
   "outputs": [
    {
     "name": "stdout",
     "output_type": "stream",
     "text": [
      "Paquete :  1 00000001\n",
      "h  =  01101000\n",
      "o  =  01101111\n",
      "l  =  01101100\n",
      "Paquete :  2 00000010\n",
      "a  =  01100001\n",
      "   =  00100000\n",
      "m  =  01101101\n",
      "Paquete :  3 00000011\n",
      "u  =  01110101\n",
      "n  =  01101110\n",
      "d  =  01100100\n",
      "Paquete :  4 00000100\n",
      "o  =  01101111\n",
      "_  =  01011111\n",
      "_  =  01011111\n",
      "\n",
      "Mensaje en su totalidad :\n",
      "\n",
      " 110000001010100000000001000011110000000101100001001000000110110111001000000110010000111000000011110000001010100000000001000011110000001000100000011011010111010111001000000110010000111000000011110000001010100000000001000011110000001101101101011101010110111011001000000110010000111000000011110000001010100000000001000011110000010001110101011011100110010011001000000110010000111000000011\n"
     ]
    }
   ],
   "source": [
    "codifica=\"\"\n",
    "for i in range (nPaquetes):\n",
    "    codifica=codifica+cipo+abinario(i+1)\n",
    "    print(\"Paquete : \",i+1,abinario(i+1))\n",
    "    for j in range(pMensaje):\n",
    "        print(msj[i*pMensaje+j],\" = \",abinario(ord(msj[i*pMensaje+j])))\n",
    "        codifica=codifica+abinario(ord(msj[i+pMensaje+j]))\n",
    "    codifica=codifica+cipd\n",
    "print(\"\\nMensaje en su totalidad :\")\n",
    "print(\"\\n\",codifica)"
   ]
  },
  {
   "cell_type": "code",
   "execution_count": null,
   "metadata": {},
   "outputs": [],
   "source": []
  },
  {
   "cell_type": "code",
   "execution_count": null,
   "metadata": {},
   "outputs": [],
   "source": []
  }
 ],
 "metadata": {
  "kernelspec": {
   "display_name": "Python 3",
   "language": "python",
   "name": "python3"
  },
  "language_info": {
   "codemirror_mode": {
    "name": "ipython",
    "version": 3
   },
   "file_extension": ".py",
   "mimetype": "text/x-python",
   "name": "python",
   "nbconvert_exporter": "python",
   "pygments_lexer": "ipython3",
   "version": "3.7.3"
  }
 },
 "nbformat": 4,
 "nbformat_minor": 2
}
